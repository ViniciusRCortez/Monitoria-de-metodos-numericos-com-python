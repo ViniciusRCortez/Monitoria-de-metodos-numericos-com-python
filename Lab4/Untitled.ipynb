{
 "cells": [
  {
   "cell_type": "code",
   "execution_count": 1,
   "id": "31ac31e4",
   "metadata": {},
   "outputs": [],
   "source": [
    "import numpy as np\n",
    "from scipy.linalg import lu_factor, lu_solve\n",
    "\n",
    "\n",
    "def LU(A, P):\n",
    "    lu, piv = lu_factor(A)\n",
    "    solucao = lu_solve((lu, piv), P)\n",
    "    return solucao"
   ]
  },
  {
   "cell_type": "code",
   "execution_count": 2,
   "id": "c5a432c1",
   "metadata": {},
   "outputs": [
    {
     "name": "stdout",
     "output_type": "stream",
     "text": [
      "O vetor solução pelo metodo da decomposição LU é: \n",
      "[[ 1.2666667 ]\n",
      " [-0.06666667]\n",
      " [ 0.2       ]]\n"
     ]
    }
   ],
   "source": [
    "A = np.array([[1, 1, -1],\n",
    "              [1, 1, 4],\n",
    "              [2, -1, 2]], dtype='float16')\n",
    "P = np.array([[1],\n",
    "              [2],\n",
    "              [3]], dtype='float16')\n",
    "\n",
    "#Por LU:\n",
    "s = LU(A, P)\n",
    "print(f'O vetor solução pelo metodo da decomposição LU é: \\n{s}')"
   ]
  },
  {
   "cell_type": "code",
   "execution_count": null,
   "id": "803f5b6d",
   "metadata": {},
   "outputs": [],
   "source": []
  }
 ],
 "metadata": {
  "kernelspec": {
   "display_name": "Python 3",
   "language": "python",
   "name": "python3"
  },
  "language_info": {
   "codemirror_mode": {
    "name": "ipython",
    "version": 3
   },
   "file_extension": ".py",
   "mimetype": "text/x-python",
   "name": "python",
   "nbconvert_exporter": "python",
   "pygments_lexer": "ipython3",
   "version": "3.8.8"
  },
  "toc": {
   "base_numbering": 1,
   "nav_menu": {},
   "number_sections": true,
   "sideBar": true,
   "skip_h1_title": false,
   "title_cell": "Table of Contents",
   "title_sidebar": "Contents",
   "toc_cell": false,
   "toc_position": {},
   "toc_section_display": true,
   "toc_window_display": false
  }
 },
 "nbformat": 4,
 "nbformat_minor": 5
}
