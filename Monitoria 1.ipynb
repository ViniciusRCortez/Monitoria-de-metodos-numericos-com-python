{
 "cells": [
  {
   "cell_type": "markdown",
   "id": "0a44ba31",
   "metadata": {},
   "source": [
    "## Importando uma função"
   ]
  },
  {
   "cell_type": "code",
   "execution_count": 1,
   "id": "a771a0bb",
   "metadata": {},
   "outputs": [],
   "source": [
    "import numpy as np"
   ]
  },
  {
   "cell_type": "markdown",
   "id": "90162cd3",
   "metadata": {},
   "source": [
    "## Usando uma função/como gerar um array"
   ]
  },
  {
   "cell_type": "code",
   "execution_count": 3,
   "id": "b3fa8939",
   "metadata": {},
   "outputs": [
    {
     "name": "stdout",
     "output_type": "stream",
     "text": [
      "[1 2 3]\n"
     ]
    }
   ],
   "source": [
    "a = np.array([1, 2, 3])\n",
    "print(a)"
   ]
  },
  {
   "cell_type": "code",
   "execution_count": 6,
   "id": "e8e66a4a",
   "metadata": {},
   "outputs": [
    {
     "name": "stdout",
     "output_type": "stream",
     "text": [
      "[[1 2 3]\n",
      " [4 5 6]\n",
      " [1 1 1]]\n"
     ]
    }
   ],
   "source": [
    "a = np.array([[1, 2, 3], \n",
    "              [4, 5, 6],\n",
    "              [1, 1, 1]])\n",
    "print(a)"
   ]
  },
  {
   "cell_type": "markdown",
   "id": "506ffe7b",
   "metadata": {},
   "source": [
    "## Como inverter matriz"
   ]
  },
  {
   "cell_type": "code",
   "execution_count": 8,
   "id": "a0154893",
   "metadata": {},
   "outputs": [
    {
     "name": "stdout",
     "output_type": "stream",
     "text": [
      "[[-1.2009599e+16  1.2009599e+16 -3.6028797e+16]\n",
      " [ 2.4019198e+16 -2.4019198e+16  7.2057594e+16]\n",
      " [-1.2009599e+16  1.2009599e+16 -3.6028797e+16]]\n"
     ]
    }
   ],
   "source": [
    "i = np.linalg.inv(a)\n",
    "print(i)"
   ]
  },
  {
   "cell_type": "markdown",
   "id": "faa3e33a",
   "metadata": {},
   "source": [
    "## Arrendondando matriz"
   ]
  },
  {
   "cell_type": "code",
   "execution_count": 16,
   "id": "f7f023b3",
   "metadata": {},
   "outputs": [
    {
     "name": "stdout",
     "output_type": "stream",
     "text": [
      "[1.    2.332 3.664 4.996 6.328 7.66  8.992]\n",
      "[1.   2.33 3.66 5.   6.33 7.66 8.99]\n"
     ]
    }
   ],
   "source": [
    "b = np.arange(1, 10.1, 1.332)\n",
    "print(b)\n",
    "b = np.around(b, 2)\n",
    "print(b)"
   ]
  },
  {
   "cell_type": "markdown",
   "id": "27b85aee",
   "metadata": {},
   "source": [
    "## Arange vs Linspace"
   ]
  },
  {
   "cell_type": "code",
   "execution_count": 19,
   "id": "88e32f70",
   "metadata": {},
   "outputs": [
    {
     "name": "stdout",
     "output_type": "stream",
     "text": [
      "[0 2]\n"
     ]
    }
   ],
   "source": [
    "# Voçê decide o passo e a função escolhe o tamanho\n",
    "x = np.arange(step=2, stop=4, start=0)\n",
    "print(x)"
   ]
  },
  {
   "cell_type": "code",
   "execution_count": 20,
   "id": "1afecc1a",
   "metadata": {},
   "outputs": [
    {
     "name": "stdout",
     "output_type": "stream",
     "text": [
      "[  0.          25.83333333  51.66666667  77.5        103.33333333\n",
      " 129.16666667 155.        ]\n"
     ]
    }
   ],
   "source": [
    "# Voçê decide o tamanho e a função escolhe o passo\n",
    "y = np.linspace(0, 155, 7)\n",
    "print(y)"
   ]
  },
  {
   "cell_type": "markdown",
   "id": "1fe2082f",
   "metadata": {},
   "source": [
    "## Plotando grafico"
   ]
  },
  {
   "cell_type": "code",
   "execution_count": 21,
   "id": "a00101e3",
   "metadata": {},
   "outputs": [],
   "source": [
    "import matplotlib.pyplot as plt"
   ]
  },
  {
   "cell_type": "code",
   "execution_count": 25,
   "id": "d9d84734",
   "metadata": {},
   "outputs": [
    {
     "data": {
      "image/png": "[encoded data removed]",
      "text/plain": [
       "<Figure size 432x288 with 1 Axes>"
      ]
     },
     "metadata": {
      "needs_background": "light"
     },
     "output_type": "display_data"
    },
    {
     "data": {
      "image/png": "[encoded data removed]",
      "text/plain": [
       "<Figure size 432x288 with 1 Axes>"
      ]
     },
     "metadata": {
      "needs_background": "light"
     },
     "output_type": "display_data"
    }
   ],
   "source": [
    "x = np.arange(10)\n",
    "y = 2*x\n",
    "z = 3*x\n",
    "plt.plot(x, y, label='2x')\n",
    "plt.plot(x, z, label='3x')\n",
    "plt.xlabel('x')\n",
    "plt.legend()\n",
    "plt.show()\n",
    "#show() plota o grafico com tds os comandos plt acima dele até chegar num outro show()\n",
    "plt.plot(x, y, label='2x')\n",
    "plt.plot(x, z, label='3x')\n",
    "plt.xlabel('x')\n",
    "plt.legend()\n",
    "plt.show()"
   ]
  },
  {
   "cell_type": "code",
   "execution_count": 8,
   "id": "89026e38",
   "metadata": {},
   "outputs": [
    {
     "name": "stdout",
     "output_type": "stream",
     "text": [
      "1\n",
      "6\n",
      "[3 4 5]\n"
     ]
    }
   ],
   "source": [
    "a = np.array([1, 2, 3, 4, 5, 6])\n",
    "print(f'{a[0]}\\n{a[-1]}\\n{a[2:5]}')"
   ]
  },
  {
   "cell_type": "code",
   "execution_count": 9,
   "id": "886ecf2c",
   "metadata": {},
   "outputs": [
    {
     "name": "stdout",
     "output_type": "stream",
     "text": [
      "[[1 2 3]\n",
      " [4 5 6]]\n"
     ]
    }
   ],
   "source": [
    "a = a.reshape([2, 3])\n",
    "print(a)"
   ]
  },
  {
   "cell_type": "code",
   "execution_count": 10,
   "id": "5714631c",
   "metadata": {},
   "outputs": [
    {
     "name": "stdout",
     "output_type": "stream",
     "text": [
      "[[1. 0. 0.]\n",
      " [0. 1. 0.]\n",
      " [0. 0. 1.]]\n"
     ]
    }
   ],
   "source": [
    "a = np.eye(3)\n",
    "print(a)"
   ]
  },
  {
   "cell_type": "code",
   "execution_count": 15,
   "id": "db6f0e12",
   "metadata": {},
   "outputs": [
    {
     "name": "stdout",
     "output_type": "stream",
     "text": [
      "[[ 1  2  3  4]\n",
      " [ 0  1  2  3]\n",
      " [-1  0  1  2]\n",
      " [-2 -1  0  1]]\n"
     ]
    }
   ],
   "source": [
    "from scipy.linalg import toeplitz\n",
    "e = toeplitz([1, 0, -1, -2], [1, 2, 3, 4])    #Escreve uma matriz([d, d-1, d-2, ...], [d(n), d+1, d+2, ...])\n",
    "print(e)"
   ]
  },
  {
   "cell_type": "code",
   "execution_count": 17,
   "id": "9cfdb323",
   "metadata": {},
   "outputs": [
    {
     "name": "stdout",
     "output_type": "stream",
     "text": [
      "[[-0.375  0.5    0.125]\n",
      " [ 0.5   -1.     0.5  ]\n",
      " [ 0.125  0.5   -0.375]]\n"
     ]
    }
   ],
   "source": [
    "a = np.array([[1, 2, 3],\n",
    "              [2, 1, 2],\n",
    "              [3, 2, 1]])\n",
    "a = np.linalg.inv(a)\n",
    "print(a)"
   ]
  },
  {
   "cell_type": "code",
   "execution_count": 27,
   "id": "aab15193",
   "metadata": {},
   "outputs": [
    {
     "name": "stdout",
     "output_type": "stream",
     "text": [
      "[[1 1 1]\n",
      " [2 2 2]\n",
      " [3 3 3]]\n",
      "[[1 2 3]\n",
      " [1 2 3]\n",
      " [1 2 3]]\n"
     ]
    }
   ],
   "source": [
    "a = np.array([[1, 1, 1],\n",
    "                  [2, 2, 2],\n",
    "                  [3, 3, 3]])\n",
    "b = np.transpose(a)\n",
    "print(a)\n",
    "print(b)"
   ]
  },
  {
   "cell_type": "code",
   "execution_count": 28,
   "id": "b0a213d7",
   "metadata": {},
   "outputs": [
    {
     "name": "stdout",
     "output_type": "stream",
     "text": [
      "[[14 14 14]\n",
      " [10 10 10]\n",
      " [10 10 10]]\n"
     ]
    }
   ],
   "source": [
    "a = np.array([[1, 2, 3],\n",
    "              [2, 1, 2],\n",
    "              [3, 2, 1]])\n",
    "b = np.array([[1, 1, 1],\n",
    "              [2, 2, 2],\n",
    "              [3, 3, 3]])\n",
    "c = np.dot(a, b)\n",
    "print(c)"
   ]
  },
  {
   "cell_type": "code",
   "execution_count": 30,
   "id": "8eb2c9fb",
   "metadata": {},
   "outputs": [
    {
     "name": "stdout",
     "output_type": "stream",
     "text": [
      "[[4.]\n",
      " [2.]]\n"
     ]
    }
   ],
   "source": [
    "a = np.array([[2, 1],\n",
    "              [3, 4]])\n",
    "p = np.array([[10],\n",
    "              [20]])\n",
    "from scipy.linalg import solve\n",
    "\n",
    "s = solve(a, p)\n",
    "print(s)"
   ]
  },
  {
   "cell_type": "code",
   "execution_count": 31,
   "id": "5828c240",
   "metadata": {},
   "outputs": [
    {
     "name": "stdout",
     "output_type": "stream",
     "text": [
      "[[4.]\n",
      " [2.]]\n"
     ]
    }
   ],
   "source": [
    "from scipy.linalg import lu_factor, lu_solve\n",
    "lu, piv  = lu_factor(a)\n",
    "s = lu_solve((lu, piv), p)\n",
    "print(s)"
   ]
  },
  {
   "cell_type": "code",
   "execution_count": 5,
   "id": "8bf9275c",
   "metadata": {},
   "outputs": [],
   "source": [
    "from sympy import *"
   ]
  },
  {
   "cell_type": "code",
   "execution_count": 6,
   "id": "b683190b",
   "metadata": {},
   "outputs": [],
   "source": [
    "f = lambda x: 1/x\n",
    "x = symbols ('x')"
   ]
  },
  {
   "cell_type": "code",
   "execution_count": 11,
   "id": "f53c80f8",
   "metadata": {},
   "outputs": [
    {
     "name": "stdout",
     "output_type": "stream",
     "text": [
      "oo\n"
     ]
    }
   ],
   "source": [
    "l = limit(f(x), x, 0)\n",
    "print(l)"
   ]
  },
  {
   "cell_type": "code",
   "execution_count": 12,
   "id": "6c843e44",
   "metadata": {},
   "outputs": [
    {
     "name": "stdout",
     "output_type": "stream",
     "text": [
      "oo\n"
     ]
    }
   ],
   "source": [
    "print(l + 1)"
   ]
  },
  {
   "cell_type": "code",
   "execution_count": 20,
   "id": "d1f4f750",
   "metadata": {},
   "outputs": [
    {
     "name": "stdout",
     "output_type": "stream",
     "text": [
      "-1.000000082740371\n"
     ]
    }
   ],
   "source": [
    "from scipy.misc import derivative\n",
    "d = derivative(f, 1, dx=1e-10, n=1)\n",
    "print(d)"
   ]
  },
  {
   "cell_type": "code",
   "execution_count": 28,
   "id": "a2fe7594",
   "metadata": {},
   "outputs": [
    {
     "name": "stdout",
     "output_type": "stream",
     "text": [
      "-1.00\n"
     ]
    }
   ],
   "source": [
    "\n",
    "print(f'{d:.2f}')"
   ]
  },
  {
   "cell_type": "code",
   "execution_count": 41,
   "id": "ac14d1b7",
   "metadata": {},
   "outputs": [
    {
     "name": "stdout",
     "output_type": "stream",
     "text": [
      "7/3\n",
      "<class 'sympy.core.numbers.Rational'>\n",
      "2.3333333333333335\n",
      "<class 'float'>\n"
     ]
    }
   ],
   "source": [
    "y = lambda x: x**2\n",
    "v = symbols('v')\n",
    "i = integrate(y(v), (v , 1, 2))\n",
    "print(i)\n",
    "print(type(i))\n",
    "a = float(i)\n",
    "print(a)\n",
    "print(type(a))"
   ]
  },
  {
   "cell_type": "code",
   "execution_count": 42,
   "id": "d2638277",
   "metadata": {},
   "outputs": [
    {
     "name": "stdout",
     "output_type": "stream",
     "text": [
      "0.6931471805599453\n"
     ]
    }
   ],
   "source": [
    "i = float(integrate(f(v), (v , 1, 2)))\n",
    "print(i)"
   ]
  },
  {
   "cell_type": "code",
   "execution_count": 43,
   "id": "cce6de09",
   "metadata": {},
   "outputs": [
    {
     "name": "stdout",
     "output_type": "stream",
     "text": [
      "<class 'float'>\n"
     ]
    }
   ],
   "source": [
    "print(type(i))"
   ]
  },
  {
   "cell_type": "code",
   "execution_count": 46,
   "id": "88ca7489",
   "metadata": {},
   "outputs": [
    {
     "data": {
      "image/png": "[encoded data removed]",
      "text/plain": [
       "<Figure size 432x288 with 1 Axes>"
      ]
     },
     "metadata": {
      "needs_background": "light"
     },
     "output_type": "display_data"
    }
   ],
   "source": [
    "import matplotlib.pyplot as plt\n",
    "D = lambda x: 12 - 2*x\n",
    "S = lambda x: 20*x\n",
    "x = [i for i in range(0, 1000)]\n",
    "dx = [D(i) for i in range(0, 1000)]\n",
    "sx = [S(i) for i in range(1000, 0, -1)]\n",
    "plt.plot(dx, x)\n",
    "plt.plot(sx, x)\n",
    "plt.show()"
   ]
  },
  {
   "cell_type": "code",
   "execution_count": 70,
   "id": "edfa8348",
   "metadata": {},
   "outputs": [
    {
     "data": {
      "image/png": "[encoded data removed]",
      "text/plain": [
       "<Figure size 432x288 with 1 Axes>"
      ]
     },
     "metadata": {
      "needs_background": "light"
     },
     "output_type": "display_data"
    }
   ],
   "source": [
    "import matplotlib.pyplot as plt\n",
    "import numpy as np\n",
    "    \n",
    "def f(x):\n",
    "    return x\n",
    "\n",
    "def g(x):\n",
    "    return x**2\n",
    "\n",
    "def h(x):\n",
    "    return 2*x\n",
    "\n",
    "x = np.arange(-5, 6, 1)\n",
    "y = [f(i) for i in x]\n",
    "z = [g(i) for i in x]\n",
    "w = [h(i) for i in x]\n",
    "#cria uma lista com os valores de y para cada valor de x\n",
    "    \n",
    "plt.plot(x, y, label='y = x')\n",
    "plt.plot(x, z, 'r--', label='y = x**2')\n",
    "plt.plot(x, w, 'g-o', label='y = 2x')\n",
    "plt.title('Titulo desejado')\n",
    "plt.xlabel('Eixo X')\n",
    "plt.ylabel('Eixo Y')\n",
    "plt.legend(loc='best')\n",
    "plt.tight_layout()\n",
    "plt.style.use('ggplot')\n",
    "plt.grid()\n",
    "plt.show()"
   ]
  },
  {
   "cell_type": "code",
   "execution_count": 24,
   "id": "242aadce",
   "metadata": {},
   "outputs": [
    {
     "data": {
      "image/png": "[encoded data removed]",
      "text/plain": [
       "<Figure size 432x288 with 1 Axes>"
      ]
     },
     "metadata": {},
     "output_type": "display_data"
    }
   ],
   "source": [
    "import numpy as np\n",
    "import matplotlib.pyplot as plt\n",
    "\n",
    "preco = np.array([8, 7, 6, 5, 4, 3, 2, 1, 0])\n",
    "quant = np.array([0, 1000, 2000, 3000, 4000, 5000, 6000, 7000, 8000])\n",
    "\n",
    "plt.plot(quant, preco)\n",
    "plt.ylabel('Preço(R$)')\n",
    "plt.xlabel('Quantidade comprada')\n",
    "plt.title('Quantidade x Preço')\n",
    "plt.tight_layout()\n",
    "plt.style.use('ggplot')\n",
    "plt.show()"
   ]
  },
  {
   "cell_type": "code",
   "execution_count": 12,
   "id": "cc66e709",
   "metadata": {},
   "outputs": [],
   "source": [
    "pontos = ['A', 'B', 'C', 'D', 'E', 'F', 'G', 'H', 'I']\n"
   ]
  },
  {
   "cell_type": "code",
   "execution_count": 22,
   "id": "47ada6bb",
   "metadata": {},
   "outputs": [],
   "source": [
    "def elasticidade(P, PN, Q, QN):\n",
    "    Num = abs((Q - QN)/((Q + QN)/2))\n",
    "    Dem = abs((P - PN)/((P + PN)/2))\n",
    "    return Num/Dem"
   ]
  },
  {
   "cell_type": "code",
   "execution_count": 25,
   "id": "19425699",
   "metadata": {},
   "outputs": [
    {
     "name": "stdout",
     "output_type": "stream",
     "text": [
      "Entre os pontos A e B a elasticidade vale 15.00\n",
      "Entre os pontos B e C a elasticidade vale 4.33\n",
      "Entre os pontos C e D a elasticidade vale 2.20\n",
      "Entre os pontos D e E a elasticidade vale 1.29\n",
      "Entre os pontos E e F a elasticidade vale 0.78\n",
      "Entre os pontos F e G a elasticidade vale 0.45\n",
      "Entre os pontos G e H a elasticidade vale 0.23\n",
      "Entre os pontos H e I a elasticidade vale 0.07\n"
     ]
    }
   ],
   "source": [
    "for i in range(len(pontos)-1):\n",
    "    r = elasticidade(preco[i], preco[i+1], quant[i], quant[i+1])\n",
    "    print(f'Entre os pontos {pontos[i]} e {pontos[i+1]} a elasticidade vale {r:.2f}')"
   ]
  },
  {
   "cell_type": "code",
   "execution_count": null,
   "id": "a51c10b5",
   "metadata": {},
   "outputs": [],
   "source": []
  }
 ],
 "metadata": {
  "kernelspec": {
   "display_name": "Python 3",
   "language": "python",
   "name": "python3"
  },
  "language_info": {
   "codemirror_mode": {
    "name": "ipython",
    "version": 3
   },
   "file_extension": ".py",
   "mimetype": "text/x-python",
   "name": "python",
   "nbconvert_exporter": "python",
   "pygments_lexer": "ipython3",
   "version": "3.8.8"
  },
  "toc": {
   "base_numbering": 1,
   "nav_menu": {},
   "number_sections": true,
   "sideBar": true,
   "skip_h1_title": false,
   "title_cell": "Table of Contents",
   "title_sidebar": "Contents",
   "toc_cell": false,
   "toc_position": {},
   "toc_section_display": true,
   "toc_window_display": false
  }
 },
 "nbformat": 4,
 "nbformat_minor": 5
}
