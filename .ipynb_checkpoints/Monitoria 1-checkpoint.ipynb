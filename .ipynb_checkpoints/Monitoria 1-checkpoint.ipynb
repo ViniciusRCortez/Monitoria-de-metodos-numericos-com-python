{
 "cells": [
  {
   "cell_type": "markdown",
   "id": "0a44ba31",
   "metadata": {},
   "source": [
    "## Importando uma função"
   ]
  },
  {
   "cell_type": "code",
   "execution_count": 1,
   "id": "a771a0bb",
   "metadata": {},
   "outputs": [],
   "source": [
    "import numpy as np"
   ]
  },
  {
   "cell_type": "markdown",
   "id": "90162cd3",
   "metadata": {},
   "source": [
    "## Usando uma função/como gerar um array"
   ]
  },
  {
   "cell_type": "code",
   "execution_count": 3,
   "id": "b3fa8939",
   "metadata": {},
   "outputs": [
    {
     "name": "stdout",
     "output_type": "stream",
     "text": [
      "[1 2 3]\n"
     ]
    }
   ],
   "source": [
    "a = np.array([1, 2, 3])\n",
    "print(a)"
   ]
  },
  {
   "cell_type": "code",
   "execution_count": 6,
   "id": "e8e66a4a",
   "metadata": {},
   "outputs": [
    {
     "name": "stdout",
     "output_type": "stream",
     "text": [
      "[[1 2 3]\n",
      " [4 5 6]\n",
      " [1 1 1]]\n"
     ]
    }
   ],
   "source": [
    "a = np.array([[1, 2, 3], \n",
    "              [4, 5, 6],\n",
    "              [1, 1, 1]])\n",
    "print(a)"
   ]
  },
  {
   "cell_type": "markdown",
   "id": "506ffe7b",
   "metadata": {},
   "source": [
    "## Como inverter matriz"
   ]
  },
  {
   "cell_type": "code",
   "execution_count": 8,
   "id": "a0154893",
   "metadata": {},
   "outputs": [
    {
     "name": "stdout",
     "output_type": "stream",
     "text": [
      "[[-1.2009599e+16  1.2009599e+16 -3.6028797e+16]\n",
      " [ 2.4019198e+16 -2.4019198e+16  7.2057594e+16]\n",
      " [-1.2009599e+16  1.2009599e+16 -3.6028797e+16]]\n"
     ]
    }
   ],
   "source": [
    "i = np.linalg.inv(a)\n",
    "print(i)"
   ]
  },
  {
   "cell_type": "markdown",
   "id": "faa3e33a",
   "metadata": {},
   "source": [
    "## Arrendondando matriz"
   ]
  },
  {
   "cell_type": "code",
   "execution_count": 16,
   "id": "f7f023b3",
   "metadata": {},
   "outputs": [
    {
     "name": "stdout",
     "output_type": "stream",
     "text": [
      "[1.    2.332 3.664 4.996 6.328 7.66  8.992]\n",
      "[1.   2.33 3.66 5.   6.33 7.66 8.99]\n"
     ]
    }
   ],
   "source": [
    "b = np.arange(1, 10.1, 1.332)\n",
    "print(b)\n",
    "b = np.around(b, 2)\n",
    "print(b)"
   ]
  },
  {
   "cell_type": "markdown",
   "id": "27b85aee",
   "metadata": {},
   "source": [
    "## Arange vs Linspace"
   ]
  },
  {
   "cell_type": "code",
   "execution_count": 19,
   "id": "88e32f70",
   "metadata": {},
   "outputs": [
    {
     "name": "stdout",
     "output_type": "stream",
     "text": [
      "[0 2]\n"
     ]
    }
   ],
   "source": [
    "# Voçê decide o passo e a função escolhe o tamanho\n",
    "x = np.arange(step=2, stop=4, start=0)\n",
    "print(x)"
   ]
  },
  {
   "cell_type": "code",
   "execution_count": 20,
   "id": "1afecc1a",
   "metadata": {},
   "outputs": [
    {
     "name": "stdout",
     "output_type": "stream",
     "text": [
      "[  0.          25.83333333  51.66666667  77.5        103.33333333\n",
      " 129.16666667 155.        ]\n"
     ]
    }
   ],
   "source": [
    "# Voçê decide o tamanho e a função escolhe o passo\n",
    "y = np.linspace(0, 155, 7)\n",
    "print(y)"
   ]
  },
  {
   "cell_type": "markdown",
   "id": "1fe2082f",
   "metadata": {},
   "source": [
    "## Plotando grafico"
   ]
  },
  {
   "cell_type": "code",
   "execution_count": 21,
   "id": "a00101e3",
   "metadata": {},
   "outputs": [],
   "source": [
    "import matplotlib.pyplot as plt"
   ]
  },
  {
   "cell_type": "code",
   "execution_count": 25,
   "id": "d9d84734",
   "metadata": {},
   "outputs": [
    {
     "data": {
      "image/png": "[encoded data removed]",
      "text/plain": [
       "<Figure size 432x288 with 1 Axes>"
      ]
     },
     "metadata": {
      "needs_background": "light"
     },
     "output_type": "display_data"
    },
    {
     "data": {
      "image/png": "[encoded data removed]",
      "text/plain": [
       "<Figure size 432x288 with 1 Axes>"
      ]
     },
     "metadata": {
      "needs_background": "light"
     },
     "output_type": "display_data"
    }
   ],
   "source": [
    "x = np.arange(10)\n",
    "y = 2*x\n",
    "z = 3*x\n",
    "plt.plot(x, y, label='2x')\n",
    "plt.plot(x, z, label='3x')\n",
    "plt.xlabel('x')\n",
    "plt.legend()\n",
    "plt.show()\n",
    "#show() plota o grafico com tds os comandos plt acima dele até chegar num outro show()\n",
    "plt.plot(x, y, label='2x')\n",
    "plt.plot(x, z, label='3x')\n",
    "plt.xlabel('x')\n",
    "plt.legend()\n",
    "plt.show()"
   ]
  },
  {
   "cell_type": "code",
   "execution_count": null,
   "id": "b2a9ac99",
   "metadata": {},
   "outputs": [],
   "source": []
  }
 ],
 "metadata": {
  "kernelspec": {
   "display_name": "Python 3",
   "language": "python",
   "name": "python3"
  },
  "language_info": {
   "codemirror_mode": {
    "name": "ipython",
    "version": 3
   },
   "file_extension": ".py",
   "mimetype": "text/x-python",
   "name": "python",
   "nbconvert_exporter": "python",
   "pygments_lexer": "ipython3",
   "version": "3.8.8"
  },
  "toc": {
   "base_numbering": 1,
   "nav_menu": {},
   "number_sections": true,
   "sideBar": true,
   "skip_h1_title": false,
   "title_cell": "Table of Contents",
   "title_sidebar": "Contents",
   "toc_cell": false,
   "toc_position": {},
   "toc_section_display": true,
   "toc_window_display": false
  }
 },
 "nbformat": 4,
 "nbformat_minor": 5
}
